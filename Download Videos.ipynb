{
 "cells": [
  {
   "cell_type": "code",
   "execution_count": 3,
   "id": "579b2063",
   "metadata": {},
   "outputs": [
    {
     "name": "stdout",
     "output_type": "stream",
     "text": [
      "Collecting pytube\n",
      "  Downloading pytube-15.0.0-py3-none-any.whl (57 kB)\n",
      "\u001b[2K     \u001b[90m━━━━━━━━━━━━━━━━━━━━━━━━━━━━━━━━━━━━━━━━\u001b[0m \u001b[32m57.6/57.6 kB\u001b[0m \u001b[31m1.3 MB/s\u001b[0m eta \u001b[36m0:00:00\u001b[0ma \u001b[36m0:00:01\u001b[0m\n",
      "\u001b[?25hInstalling collected packages: pytube\n",
      "Successfully installed pytube-15.0.0\n"
     ]
    }
   ],
   "source": [
    "!pip install pytube"
   ]
  },
  {
   "cell_type": "code",
   "execution_count": 25,
   "id": "f44cb2dc",
   "metadata": {},
   "outputs": [
    {
     "data": {
      "text/html": [
       "<div>\n",
       "<style scoped>\n",
       "    .dataframe tbody tr th:only-of-type {\n",
       "        vertical-align: middle;\n",
       "    }\n",
       "\n",
       "    .dataframe tbody tr th {\n",
       "        vertical-align: top;\n",
       "    }\n",
       "\n",
       "    .dataframe thead th {\n",
       "        text-align: right;\n",
       "    }\n",
       "</style>\n",
       "<table border=\"1\" class=\"dataframe\">\n",
       "  <thead>\n",
       "    <tr style=\"text-align: right;\">\n",
       "      <th></th>\n",
       "      <th>video_id</th>\n",
       "      <th>upload_date</th>\n",
       "      <th>views</th>\n",
       "      <th>likes</th>\n",
       "      <th>dislikes</th>\n",
       "      <th>comments</th>\n",
       "      <th>subscribers</th>\n",
       "      <th>song_id</th>\n",
       "    </tr>\n",
       "  </thead>\n",
       "  <tbody>\n",
       "    <tr>\n",
       "      <th>0</th>\n",
       "      <td>Duaxp1nc5po</td>\n",
       "      <td>2016-11-03T18:30:00Z</td>\n",
       "      <td>6342336.0</td>\n",
       "      <td>113146.0</td>\n",
       "      <td>NaN</td>\n",
       "      <td>1551.0</td>\n",
       "      <td>2310000</td>\n",
       "      <td>If I Ain't Got You - Alicia Keys</td>\n",
       "    </tr>\n",
       "    <tr>\n",
       "      <th>1</th>\n",
       "      <td>TnjS5kqyu3E</td>\n",
       "      <td>2022-11-02T01:05:46Z</td>\n",
       "      <td>1129167.0</td>\n",
       "      <td>22417.0</td>\n",
       "      <td>NaN</td>\n",
       "      <td>313.0</td>\n",
       "      <td>3870</td>\n",
       "      <td>If I Ain't Got You - Alicia Keys</td>\n",
       "    </tr>\n",
       "    <tr>\n",
       "      <th>2</th>\n",
       "      <td>jw3MqySX9qw</td>\n",
       "      <td>2021-10-01T10:00:23Z</td>\n",
       "      <td>1603208.0</td>\n",
       "      <td>48048.0</td>\n",
       "      <td>NaN</td>\n",
       "      <td>974.0</td>\n",
       "      <td>244000</td>\n",
       "      <td>If I Ain't Got You - Alicia Keys</td>\n",
       "    </tr>\n",
       "    <tr>\n",
       "      <th>3</th>\n",
       "      <td>vFny_UvyT0s</td>\n",
       "      <td>2023-05-24T14:00:40Z</td>\n",
       "      <td>409868.0</td>\n",
       "      <td>15201.0</td>\n",
       "      <td>NaN</td>\n",
       "      <td>516.0</td>\n",
       "      <td>681000</td>\n",
       "      <td>If I Ain't Got You - Alicia Keys</td>\n",
       "    </tr>\n",
       "    <tr>\n",
       "      <th>4</th>\n",
       "      <td>tq9nmRqNJZM</td>\n",
       "      <td>2015-02-05T11:01:15Z</td>\n",
       "      <td>6921650.0</td>\n",
       "      <td>77987.0</td>\n",
       "      <td>NaN</td>\n",
       "      <td>1218.0</td>\n",
       "      <td>25100</td>\n",
       "      <td>If I Ain't Got You - Alicia Keys</td>\n",
       "    </tr>\n",
       "    <tr>\n",
       "      <th>5</th>\n",
       "      <td>TOgOhMWA6oM</td>\n",
       "      <td>2023-02-02T18:38:39Z</td>\n",
       "      <td>181418.0</td>\n",
       "      <td>3090.0</td>\n",
       "      <td>NaN</td>\n",
       "      <td>90.0</td>\n",
       "      <td>39100</td>\n",
       "      <td>If I Ain't Got You - Alicia Keys</td>\n",
       "    </tr>\n",
       "    <tr>\n",
       "      <th>6</th>\n",
       "      <td>YJHs_P4voBM</td>\n",
       "      <td>2023-09-27T13:00:33Z</td>\n",
       "      <td>90855.0</td>\n",
       "      <td>5427.0</td>\n",
       "      <td>NaN</td>\n",
       "      <td>251.0</td>\n",
       "      <td>99600</td>\n",
       "      <td>If I Ain't Got You - Alicia Keys</td>\n",
       "    </tr>\n",
       "    <tr>\n",
       "      <th>7</th>\n",
       "      <td>jNV60kqZGNY</td>\n",
       "      <td>2019-03-27T14:11:30Z</td>\n",
       "      <td>197171.0</td>\n",
       "      <td>2811.0</td>\n",
       "      <td>NaN</td>\n",
       "      <td>102.0</td>\n",
       "      <td>53500</td>\n",
       "      <td>If I Ain't Got You - Alicia Keys</td>\n",
       "    </tr>\n",
       "    <tr>\n",
       "      <th>8</th>\n",
       "      <td>ddSoLkxzxyQ</td>\n",
       "      <td>2018-07-16T14:00:06Z</td>\n",
       "      <td>1304509.0</td>\n",
       "      <td>21579.0</td>\n",
       "      <td>NaN</td>\n",
       "      <td>527.0</td>\n",
       "      <td>1570000</td>\n",
       "      <td>If I Ain't Got You - Alicia Keys</td>\n",
       "    </tr>\n",
       "    <tr>\n",
       "      <th>9</th>\n",
       "      <td>g_xcxu0TTvo</td>\n",
       "      <td>2017-10-02T17:27:18Z</td>\n",
       "      <td>8357621.0</td>\n",
       "      <td>150908.0</td>\n",
       "      <td>NaN</td>\n",
       "      <td>3417.0</td>\n",
       "      <td>1140000</td>\n",
       "      <td>If I Ain't Got You - Alicia Keys</td>\n",
       "    </tr>\n",
       "  </tbody>\n",
       "</table>\n",
       "</div>"
      ],
      "text/plain": [
       "      video_id           upload_date      views     likes  dislikes  comments   \n",
       "0  Duaxp1nc5po  2016-11-03T18:30:00Z  6342336.0  113146.0       NaN    1551.0  \\\n",
       "1  TnjS5kqyu3E  2022-11-02T01:05:46Z  1129167.0   22417.0       NaN     313.0   \n",
       "2  jw3MqySX9qw  2021-10-01T10:00:23Z  1603208.0   48048.0       NaN     974.0   \n",
       "3  vFny_UvyT0s  2023-05-24T14:00:40Z   409868.0   15201.0       NaN     516.0   \n",
       "4  tq9nmRqNJZM  2015-02-05T11:01:15Z  6921650.0   77987.0       NaN    1218.0   \n",
       "5  TOgOhMWA6oM  2023-02-02T18:38:39Z   181418.0    3090.0       NaN      90.0   \n",
       "6  YJHs_P4voBM  2023-09-27T13:00:33Z    90855.0    5427.0       NaN     251.0   \n",
       "7  jNV60kqZGNY  2019-03-27T14:11:30Z   197171.0    2811.0       NaN     102.0   \n",
       "8  ddSoLkxzxyQ  2018-07-16T14:00:06Z  1304509.0   21579.0       NaN     527.0   \n",
       "9  g_xcxu0TTvo  2017-10-02T17:27:18Z  8357621.0  150908.0       NaN    3417.0   \n",
       "\n",
       "   subscribers                           song_id  \n",
       "0      2310000  If I Ain't Got You - Alicia Keys  \n",
       "1         3870  If I Ain't Got You - Alicia Keys  \n",
       "2       244000  If I Ain't Got You - Alicia Keys  \n",
       "3       681000  If I Ain't Got You - Alicia Keys  \n",
       "4        25100  If I Ain't Got You - Alicia Keys  \n",
       "5        39100  If I Ain't Got You - Alicia Keys  \n",
       "6        99600  If I Ain't Got You - Alicia Keys  \n",
       "7        53500  If I Ain't Got You - Alicia Keys  \n",
       "8      1570000  If I Ain't Got You - Alicia Keys  \n",
       "9      1140000  If I Ain't Got You - Alicia Keys  "
      ]
     },
     "execution_count": 25,
     "metadata": {},
     "output_type": "execute_result"
    }
   ],
   "source": [
    "import pandas as pd\n",
    "\n",
    "file_name = \"youtube_covers.csv\"  # Name of your CSV file\n",
    "df = pd.read_csv(file_name)\n",
    "\n",
    "df.head(n=10)"
   ]
  },
  {
   "cell_type": "code",
   "execution_count": 19,
   "id": "b77e962e",
   "metadata": {},
   "outputs": [],
   "source": [
    "from pytube import YouTube\n",
    "import os\n",
    "from moviepy.editor import *\n",
    "\n",
    "def download_video(url, path):\n",
    "    try:\n",
    "        yt = YouTube(url)\n",
    "        video_id = yt.video_id\n",
    "        stream = yt.streams.filter(progressive=True, file_extension='mp4').order_by('resolution').desc().first()\n",
    "        filename = f\"{video_id}.mp4\"\n",
    "        stream.download(output_path=path, filename=filename)\n",
    "        print(f\"Downloaded: {url} as {filename}\")\n",
    "        return filename  # Return the filename of the downloaded video\n",
    "    except Exception as e:\n",
    "        print(f\"Failed to download {url}: {str(e)}\")\n",
    "        return None\n",
    "\n",
    "def extract_audio_as_wav(video_file_path, audio_file_path):\n",
    "    video = VideoFileClip(video_file_path)\n",
    "    audio = video.audio\n",
    "    audio.write_audiofile(audio_file_path, codec='pcm_s16le')  # Extract as WAV\n",
    "    print(f\"Extracted audio from {video_file_path} to {audio_file_path}\")"
   ]
  },
  {
   "cell_type": "code",
   "execution_count": 23,
   "id": "3c2c524f",
   "metadata": {},
   "outputs": [],
   "source": [
    "# Paths for video and audio folders within the 'data' directory\n",
    "video_path = './data/video'\n",
    "audio_path = './data/audio'\n",
    "\n",
    "# Ensure the directories exist\n",
    "os.makedirs(video_path, exist_ok=True)\n",
    "os.makedirs(audio_path, exist_ok=True)"
   ]
  },
  {
   "cell_type": "code",
   "execution_count": 24,
   "id": "f257bf76",
   "metadata": {},
   "outputs": [
    {
     "name": "stdout",
     "output_type": "stream",
     "text": [
      "Duaxp1nc5po\n",
      "Downloaded: https://www.youtube.com/watch?v=Duaxp1nc5po as Duaxp1nc5po.mp4\n",
      "MoviePy - Writing audio in ./data/audio/Duaxp1nc5po.wav\n"
     ]
    },
    {
     "name": "stderr",
     "output_type": "stream",
     "text": [
      "                                                                                \r"
     ]
    },
    {
     "name": "stdout",
     "output_type": "stream",
     "text": [
      "MoviePy - Done.\n",
      "Extracted audio from ./data/video/Duaxp1nc5po.mp4 to ./data/audio/Duaxp1nc5po.wav\n",
      "jw3MqySX9qw\n",
      "Downloaded: https://www.youtube.com/watch?v=jw3MqySX9qw as jw3MqySX9qw.mp4\n",
      "MoviePy - Writing audio in ./data/audio/jw3MqySX9qw.wav\n"
     ]
    },
    {
     "name": "stderr",
     "output_type": "stream",
     "text": [
      "                                                                                \r"
     ]
    },
    {
     "name": "stdout",
     "output_type": "stream",
     "text": [
      "MoviePy - Done.\n",
      "Extracted audio from ./data/video/jw3MqySX9qw.mp4 to ./data/audio/jw3MqySX9qw.wav\n",
      "vFny_UvyT0s\n",
      "Downloaded: https://www.youtube.com/watch?v=vFny_UvyT0s as vFny_UvyT0s.mp4\n",
      "MoviePy - Writing audio in ./data/audio/vFny_UvyT0s.wav\n"
     ]
    },
    {
     "name": "stderr",
     "output_type": "stream",
     "text": [
      "                                                                                \r"
     ]
    },
    {
     "name": "stdout",
     "output_type": "stream",
     "text": [
      "MoviePy - Done.\n",
      "Extracted audio from ./data/video/vFny_UvyT0s.mp4 to ./data/audio/vFny_UvyT0s.wav\n",
      "TnjS5kqyu3E\n",
      "Downloaded: https://www.youtube.com/watch?v=TnjS5kqyu3E as TnjS5kqyu3E.mp4\n",
      "MoviePy - Writing audio in ./data/audio/TnjS5kqyu3E.wav\n"
     ]
    },
    {
     "name": "stderr",
     "output_type": "stream",
     "text": [
      "                                                                                \r"
     ]
    },
    {
     "name": "stdout",
     "output_type": "stream",
     "text": [
      "MoviePy - Done.\n",
      "Extracted audio from ./data/video/TnjS5kqyu3E.mp4 to ./data/audio/TnjS5kqyu3E.wav\n",
      "YJHs_P4voBM\n",
      "Downloaded: https://www.youtube.com/watch?v=YJHs_P4voBM as YJHs_P4voBM.mp4\n",
      "MoviePy - Writing audio in ./data/audio/YJHs_P4voBM.wav\n"
     ]
    },
    {
     "name": "stderr",
     "output_type": "stream",
     "text": [
      "                                                                                \r"
     ]
    },
    {
     "name": "stdout",
     "output_type": "stream",
     "text": [
      "MoviePy - Done.\n",
      "Extracted audio from ./data/video/YJHs_P4voBM.mp4 to ./data/audio/YJHs_P4voBM.wav\n",
      "tq9nmRqNJZM\n",
      "Downloaded: https://www.youtube.com/watch?v=tq9nmRqNJZM as tq9nmRqNJZM.mp4\n",
      "MoviePy - Writing audio in ./data/audio/tq9nmRqNJZM.wav\n"
     ]
    },
    {
     "name": "stderr",
     "output_type": "stream",
     "text": [
      "                                                                                \r"
     ]
    },
    {
     "name": "stdout",
     "output_type": "stream",
     "text": [
      "MoviePy - Done.\n",
      "Extracted audio from ./data/video/tq9nmRqNJZM.mp4 to ./data/audio/tq9nmRqNJZM.wav\n",
      "f7SHsxOWpO4\n",
      "Downloaded: https://www.youtube.com/watch?v=f7SHsxOWpO4 as f7SHsxOWpO4.mp4\n",
      "MoviePy - Writing audio in ./data/audio/f7SHsxOWpO4.wav\n"
     ]
    },
    {
     "name": "stderr",
     "output_type": "stream",
     "text": [
      "                                                                                \r"
     ]
    },
    {
     "name": "stdout",
     "output_type": "stream",
     "text": [
      "MoviePy - Done.\n",
      "Extracted audio from ./data/video/f7SHsxOWpO4.mp4 to ./data/audio/f7SHsxOWpO4.wav\n",
      "TOgOhMWA6oM\n",
      "Downloaded: https://www.youtube.com/watch?v=TOgOhMWA6oM as TOgOhMWA6oM.mp4\n",
      "MoviePy - Writing audio in ./data/audio/TOgOhMWA6oM.wav\n"
     ]
    },
    {
     "name": "stderr",
     "output_type": "stream",
     "text": [
      "                                                                                \r"
     ]
    },
    {
     "name": "stdout",
     "output_type": "stream",
     "text": [
      "MoviePy - Done.\n",
      "Extracted audio from ./data/video/TOgOhMWA6oM.mp4 to ./data/audio/TOgOhMWA6oM.wav\n",
      "ddSoLkxzxyQ\n",
      "Downloaded: https://www.youtube.com/watch?v=ddSoLkxzxyQ as ddSoLkxzxyQ.mp4\n",
      "MoviePy - Writing audio in ./data/audio/ddSoLkxzxyQ.wav\n"
     ]
    },
    {
     "name": "stderr",
     "output_type": "stream",
     "text": [
      "                                                                                \r"
     ]
    },
    {
     "name": "stdout",
     "output_type": "stream",
     "text": [
      "MoviePy - Done.\n",
      "Extracted audio from ./data/video/ddSoLkxzxyQ.mp4 to ./data/audio/ddSoLkxzxyQ.wav\n",
      "g_xcxu0TTvo\n",
      "Downloaded: https://www.youtube.com/watch?v=g_xcxu0TTvo as g_xcxu0TTvo.mp4\n",
      "MoviePy - Writing audio in ./data/audio/g_xcxu0TTvo.wav\n"
     ]
    },
    {
     "name": "stderr",
     "output_type": "stream",
     "text": [
      "                                                                                "
     ]
    },
    {
     "name": "stdout",
     "output_type": "stream",
     "text": [
      "MoviePy - Done.\n",
      "Extracted audio from ./data/video/g_xcxu0TTvo.mp4 to ./data/audio/g_xcxu0TTvo.wav\n"
     ]
    },
    {
     "name": "stderr",
     "output_type": "stream",
     "text": [
      "\r"
     ]
    }
   ],
   "source": [
    "# Looping through the videos\n",
    "for index, row in df.head(10).iterrows():\n",
    "    print(row['video_id'])\n",
    "    video_url = f\"https://www.youtube.com/watch?v={row['video_id']}\"\n",
    "    video_filename = download_video(video_url, video_path)\n",
    "    \n",
    "    if video_filename:\n",
    "        video_file_path = os.path.join(video_path, video_filename)\n",
    "        audio_file_name = video_filename.replace('.mp4', '.wav')\n",
    "        audio_file_path = os.path.join(audio_path, audio_file_name)\n",
    "        extract_audio_as_wav(video_file_path, audio_file_path)"
   ]
  },
  {
   "cell_type": "code",
   "execution_count": null,
   "id": "6f71ad05",
   "metadata": {},
   "outputs": [],
   "source": []
  }
 ],
 "metadata": {
  "kernelspec": {
   "display_name": "Python 3 (ipykernel)",
   "language": "python",
   "name": "python3"
  },
  "language_info": {
   "codemirror_mode": {
    "name": "ipython",
    "version": 3
   },
   "file_extension": ".py",
   "mimetype": "text/x-python",
   "name": "python",
   "nbconvert_exporter": "python",
   "pygments_lexer": "ipython3",
   "version": "3.10.10"
  }
 },
 "nbformat": 4,
 "nbformat_minor": 5
}
