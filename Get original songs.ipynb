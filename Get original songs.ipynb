{
 "cells": [
  {
   "cell_type": "code",
   "execution_count": 5,
   "id": "ba8508c1",
   "metadata": {},
   "outputs": [
    {
     "data": {
      "text/html": [
       "<div>\n",
       "<style scoped>\n",
       "    .dataframe tbody tr th:only-of-type {\n",
       "        vertical-align: middle;\n",
       "    }\n",
       "\n",
       "    .dataframe tbody tr th {\n",
       "        vertical-align: top;\n",
       "    }\n",
       "\n",
       "    .dataframe thead th {\n",
       "        text-align: right;\n",
       "    }\n",
       "</style>\n",
       "<table border=\"1\" class=\"dataframe\">\n",
       "  <thead>\n",
       "    <tr style=\"text-align: right;\">\n",
       "      <th></th>\n",
       "      <th>video_id</th>\n",
       "      <th>upload_date</th>\n",
       "      <th>views</th>\n",
       "      <th>likes</th>\n",
       "      <th>dislikes</th>\n",
       "      <th>comments</th>\n",
       "      <th>subscribers</th>\n",
       "    </tr>\n",
       "  </thead>\n",
       "  <tbody>\n",
       "    <tr>\n",
       "      <th>0</th>\n",
       "      <td>Ju8Hr50Ckwk</td>\n",
       "      <td>2009-10-25T08:39:48Z</td>\n",
       "      <td>319167824</td>\n",
       "      <td>2301662</td>\n",
       "      <td>NaN</td>\n",
       "      <td>33676</td>\n",
       "      <td>2370000</td>\n",
       "    </tr>\n",
       "  </tbody>\n",
       "</table>\n",
       "</div>"
      ],
      "text/plain": [
       "      video_id           upload_date      views    likes  dislikes  comments   \n",
       "0  Ju8Hr50Ckwk  2009-10-25T08:39:48Z  319167824  2301662       NaN     33676  \\\n",
       "\n",
       "   subscribers  \n",
       "0      2370000  "
      ]
     },
     "execution_count": 5,
     "metadata": {},
     "output_type": "execute_result"
    }
   ],
   "source": [
    "import pandas as pd\n",
    "\n",
    "file_name = \"original_songs.csv\"\n",
    "original_songs = pd.read_csv(file_name)\n",
    "\n",
    "original_songs"
   ]
  },
  {
   "cell_type": "code",
   "execution_count": 8,
   "id": "c29b82a9",
   "metadata": {},
   "outputs": [],
   "source": [
    "from pytube import YouTube\n",
    "import os\n",
    "from moviepy.editor import *\n",
    "\n",
    "def download_video(url, path):\n",
    "    try:\n",
    "        yt = YouTube(url)\n",
    "        video_id = yt.video_id\n",
    "        stream = yt.streams.filter(progressive=True, file_extension='mp4').order_by('resolution').desc().first()\n",
    "        filename = f\"{video_id}.mp4\"\n",
    "        stream.download(output_path=path, filename=filename)\n",
    "        print(f\"Downloaded: {url} as {filename}\")\n",
    "        return filename  # Return the filename of the downloaded video\n",
    "    except Exception as e:\n",
    "        print(f\"Failed to download {url}: {str(e)}\")\n",
    "        return None\n",
    "\n",
    "def extract_audio_as_wav(video_file_path, audio_file_path):\n",
    "    video = VideoFileClip(video_file_path)\n",
    "    audio = video.audio\n",
    "    audio.write_audiofile(audio_file_path, codec='pcm_s16le')  # Extract as WAV\n",
    "    print(f\"Extracted audio from {video_file_path} to {audio_file_path}\")"
   ]
  },
  {
   "cell_type": "code",
   "execution_count": 12,
   "id": "91dd07af",
   "metadata": {},
   "outputs": [],
   "source": [
    "# Paths for video and audio folders within the 'data' directory\n",
    "video_path = './data/video'\n",
    "audio_path = './data/audio'\n",
    "\n",
    "# Ensure the directories exist\n",
    "os.makedirs(video_path, exist_ok=True)\n",
    "os.makedirs(audio_path, exist_ok=True)"
   ]
  },
  {
   "cell_type": "code",
   "execution_count": 13,
   "id": "a5b90411",
   "metadata": {},
   "outputs": [
    {
     "name": "stdout",
     "output_type": "stream",
     "text": [
      "Ju8Hr50Ckwk\n",
      "Downloaded: https://www.youtube.com/watch?v=Ju8Hr50Ckwk as Ju8Hr50Ckwk.mp4\n",
      "MoviePy - Writing audio in ./data/audio/Ju8Hr50Ckwk.wav\n"
     ]
    },
    {
     "name": "stderr",
     "output_type": "stream",
     "text": [
      "                                                                                "
     ]
    },
    {
     "name": "stdout",
     "output_type": "stream",
     "text": [
      "MoviePy - Done.\n",
      "Extracted audio from ./data/video/Ju8Hr50Ckwk.mp4 to ./data/audio/Ju8Hr50Ckwk.wav\n"
     ]
    },
    {
     "name": "stderr",
     "output_type": "stream",
     "text": [
      "\r"
     ]
    }
   ],
   "source": [
    "# Looping through the videos\n",
    "for index, row in original_songs.head(10).iterrows():\n",
    "    print(row['video_id'])\n",
    "    video_url = f\"https://www.youtube.com/watch?v={row['video_id']}\"\n",
    "    video_filename = download_video(video_url, video_path)\n",
    "    \n",
    "    if video_filename:\n",
    "        video_file_path = os.path.join(video_path, video_filename)\n",
    "        audio_file_name = video_filename.replace('.mp4', '.wav')\n",
    "        audio_file_path = os.path.join(audio_path, audio_file_name)\n",
    "        extract_audio_as_wav(video_file_path, audio_file_path)"
   ]
  },
  {
   "cell_type": "code",
   "execution_count": null,
   "id": "b6af71a8",
   "metadata": {},
   "outputs": [],
   "source": []
  }
 ],
 "metadata": {
  "kernelspec": {
   "display_name": "Python 3 (ipykernel)",
   "language": "python",
   "name": "python3"
  },
  "language_info": {
   "codemirror_mode": {
    "name": "ipython",
    "version": 3
   },
   "file_extension": ".py",
   "mimetype": "text/x-python",
   "name": "python",
   "nbconvert_exporter": "python",
   "pygments_lexer": "ipython3",
   "version": "3.10.10"
  }
 },
 "nbformat": 4,
 "nbformat_minor": 5
}
